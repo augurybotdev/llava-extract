{
 "cells": [
  {
   "cell_type": "code",
   "execution_count": 1,
   "metadata": {},
   "outputs": [
    {
     "ename": "ModuleNotFoundError",
     "evalue": "No module named 'custom_modules'",
     "output_type": "error",
     "traceback": [
      "\u001b[0;31m---------------------------------------------------------------------------\u001b[0m",
      "\u001b[0;31mModuleNotFoundError\u001b[0m                       Traceback (most recent call last)",
      "Cell \u001b[0;32mIn[1], line 1\u001b[0m\n\u001b[0;32m----> 1\u001b[0m \u001b[39mfrom\u001b[39;00m \u001b[39mcustom_modules\u001b[39;00m \u001b[39mimport\u001b[39;00m LicenseDatabase\n\u001b[1;32m      2\u001b[0m \u001b[39mimport\u001b[39;00m \u001b[39msys\u001b[39;00m\n\u001b[1;32m      3\u001b[0m \u001b[39mimport\u001b[39;00m \u001b[39mreplicate\u001b[39;00m\n",
      "\u001b[0;31mModuleNotFoundError\u001b[0m: No module named 'custom_modules'"
     ]
    }
   ],
   "source": [
    "from custom_modules import LicenseDatabase\n",
    "import sys\n",
    "import replicate\n",
    "from dotenv import load_dotenv\n",
    "import os\n",
    "\n",
    "sys.path.append(\"..\")\n",
    "load_dotenv()\n",
    "REPLICATE_API_TOKEN = os.getenv(\"REPLICATE_API_TOKEN\")\n",
    "os.environ['REPLICATE_API_TOKEN'] = REPLICATE_API_TOKEN\n",
    "api_endpoint = \"https://replicate.com/yorickvp/llava-13b/api?tab=python\"\n",
    "headers = {\"Content-Type\": \"application/json\"}\n",
    "db = LicenseDatabase(\"../data/storage/license_database.db\")\n",
    "states_dir = \"../data/images/states/\"\n",
    "\n",
    "def extract_text(image_path):\n",
    "    output = replicate.run(\n",
    "        \"yorickvp/llava-13b:2facb4a474a0462c15041b78b1ad70952ea46b5ec6ad29583c0b29dbd4249591\",\n",
    "        input={\n",
    "            \"image\": open(image_path, \"rb\"),\n",
    "            \"prompt\": \"\"\"Use the text from the image to fill in the values for each category within the JSON Schemas.\n",
    "            \n",
    "                If a category is not present, write the value as \"None\"\n",
    "                If a category is present but you cannot extract the value, write the value as \"Unknown Value\"\n",
    "                \n",
    "                Remember to look for non-character symbols that can indicate organ donor or veteran status.\n",
    "                veteran status is often indicated by looking for the word 'Veteran' in an unexpected place,\n",
    "                as a unique style font, not designated with any label.\n",
    "                A circle that contains a star indicates that it is `'real_id': 'true'`.\n",
    "                Replace the \"string\", \"boolean\" and \"integer\" values with the extracted text.\n",
    "                \n",
    "                ```\n",
    "                {\\\n",
    "                    \"name\": {\\\n",
    "                        \"first\": \"string\",\\\n",
    "                        \"middle\": \"string\",\\\n",
    "                        \"last\": \"string\"\\\n",
    "                            },\\\n",
    "                    \"address\": {\\\n",
    "                        \"street\": \"string\",\\\n",
    "                        \"city\": \"string\",\\\n",
    "                        \"state\": \"string\",\\\n",
    "                        \"zip\": \"integer\"\\\n",
    "                            },\\\n",
    "                    \"real_id\": \"boolean\",\\\n",
    "                    \"organ_donor\": \"boolean\",\\\n",
    "                    \"veteran_status\": \"boolean\",\\\n",
    "                    \"DD\": \"integer\",\\\n",
    "                    \"customer_number\": \"string\",\\\n",
    "                    \"id_type\": \"string\",\\\n",
    "                    \"issue_date\": \"string\",\\\n",
    "                    \"expiration_date\": \"string\",\\\n",
    "                    \"date_of_birth\": \"string\",\\\n",
    "                    \"sex\": \"string\",\\\n",
    "                    \"eyes\": \"string\",\\\n",
    "                    \"class\": \"string\",\\\n",
    "                    \"height\": \"float\",\\\n",
    "                    \"endorsements\": \"string\",\\\n",
    "                    \"restrictions\": \"string\",\\\n",
    "                    \"signature\": \"boolean\"\\\n",
    "                        }\"\"\"\n",
    "        }\n",
    "    )\n",
    "    extracted_text = \"\"\n",
    "    for item in output:\n",
    "        extracted_text += item\n",
    "        print(item, end=\"\")\n",
    "    return extracted_text\n",
    "\n",
    "\n",
    "def select_state_directory(state_name):\n",
    "    for dir_name in os.listdir(states_dir):\n",
    "        dir_path = os.path.join(states_dir, dir_name)\n",
    "        if dir_name.lower().startswith(state_name.lower()):\n",
    "            return dir_path\n",
    "\n",
    "\n",
    "def process_input(input_path):\n",
    "    if os.path.isfile(input_path):\n",
    "        if input_path.lower().endswith(('.png', '.jpg', '.jpeg')):\n",
    "            extracted_data = extract_text(input_path)\n",
    "            filename = os.path.basename(input_path)\n",
    "            db.insert_license_data(filename, extracted_data, input_path)\n",
    "\n",
    "    elif os.path.isdir(input_path):\n",
    "        for filename in os.listdir(directory_path):\n",
    "            if filename.endswith(\".png\") or filename.endswith(\"jpg\") or filename.endswith(\"jpeg\"):\n",
    "                file_path = os.path.join(directory_path, filename)\n",
    "                extracted_data = extract_text(file_path)\n",
    "                print(filename.upper(), \" : \", extracted_data)\n",
    "                db.insert_license_data(filename, extracted_data, file_path)\n",
    "    else:\n",
    "        print(f\"'{input_path}' is an INVALID INPUT. it is neither a path to a valid image file or a directory of valid images\")\n",
    "\n",
    "\n",
    "directory_path = select_state_directory('new jersey')\n",
    "process_input(directory_path)\n",
    "print(\"UPDATED_DataBase:: \", db)\n"
   ]
  },
  {
   "cell_type": "code",
   "execution_count": null,
   "metadata": {},
   "outputs": [],
   "source": [
    "%cd ../demos/\n",
    "!streamlit run database_viewer.py\n"
   ]
  },
  {
   "cell_type": "code",
   "execution_count": null,
   "metadata": {},
   "outputs": [],
   "source": [
    "# db.insert_license_data(result)\n",
    "# customer_number = result.get('customer_number', {}).get('type')\n",
    "# record = db.retrieve_license_data(customer_number)\n",
    "# updated_data = result.copy()\n",
    "# db.update_license_data(customer_number, updated_data)"
   ]
  },
  {
   "cell_type": "code",
   "execution_count": null,
   "metadata": {},
   "outputs": [],
   "source": [
    "# images_dir = \"../data/images/\"\n",
    "# alabama_folder = \"../data/images/Alabama drivers license/\"\n",
    "# alabama_image = \"../data/images/states/Alabama drivers license/original_635733316643777774-aladriverlicense.jpg\"\n",
    "# new_mexico_folder = \"../data/images/states/New Mexico drivers license/\"\n",
    "# new_mexico_image = \"../data/images/states/New Mexico drivers license/original_Buy-New-Mexico-driver-license-online.jpg\"\n",
    "# colorado_image = \"../data/images/states/Colorado drivers license/original_colorado.sb251.drivers.license.jpg\"\n"
   ]
  },
  {
   "cell_type": "code",
   "execution_count": null,
   "metadata": {},
   "outputs": [],
   "source": [
    "# # only  converted so that it actually displays\n",
    "# sample_image = display.Image(filename=colorado_image)\n",
    "# sample_image\n"
   ]
  },
  {
   "cell_type": "code",
   "execution_count": null,
   "metadata": {},
   "outputs": [],
   "source": [
    "# def test(image_path):\n",
    "#     output = replicate.run(\n",
    "#         \"yorickvp/llava-13b:2facb4a474a0462c15041b78b1ad70952ea46b5ec6ad29583c0b29dbd4249591\",\n",
    "#         input={\n",
    "#             \"image\": open(image_path, 'rb'),\n",
    "#             \"prompt\": \"\"\"Act as an OCR and EXTRACT all of the TEXT from the image. Label and organize your response in a json format\"\"\"\n",
    "#         }\n",
    "#     )\n",
    "#     extracted_text = \"\"\n",
    "#     for item in output:\n",
    "#         extracted_text += item\n",
    "#         print(item, end=\"\")\n",
    "#     return extracted_text\n",
    "# # test_text = test(colorado_image)"
   ]
  },
  {
   "cell_type": "code",
   "execution_count": null,
   "metadata": {},
   "outputs": [],
   "source": [
    "# def test_model(image_path):\n",
    "#     output = replicate.run(\n",
    "#         \"yorickvp/llava-13b:2facb4a474a0462c15041b78b1ad70952ea46b5ec6ad29583c0b29dbd4249591\",\n",
    "#         input={\n",
    "#             \"image\": open(image_path, 'rb'),\n",
    "#             \"prompt\": \"\"\"Act as an OCR and extract the text from the image, returned in a valid json format.\n",
    "#             The labels in the image you see may not match the labels in the example, however, conceptually they are the same.\n",
    "#             For each label, provide the value found within the image.\n",
    "#             In other words, replace the values of \"string\", \"integer\" and \"boolean\" with the appropriate text from the image.\n",
    "#             Return the structure below, filled out with the values from above.\n",
    "#             Lastly, pay close attention to the organ_donor, real_id and veteran_status indicators.\n",
    "#             Here is an example that describes the format:\n",
    "#             {\\\n",
    "#                     \"name\": {\\\n",
    "#                         \"first\": \"string\",\\\n",
    "#                         \"middle\": \"string\",\\\n",
    "#                         \"last\": \"string\"\\\n",
    "#                             },\\\n",
    "#                     \"address\": {\\\n",
    "#                         \"street\": \"string\",\\\n",
    "#                         \"city\": \"string\",\\\n",
    "#                         \"state\": \"string\",\\\n",
    "#                         \"zip\": \"integer\"\\\n",
    "#                             },\\\n",
    "#                     \"real_id\": \"boolean\",\\\n",
    "#                     \"organ_donor\": \"boolean\",\\\n",
    "#                     \"veteran_status\": \"boolean\",\\\n",
    "#                     \"DD\": \"integer\",\\\n",
    "#                     \"customer_number\": \"string\",\\\n",
    "#                     \"id_type\": \"string\",\\\n",
    "#                     \"issue_date\": \"string\",\\\n",
    "#                     \"expiration_date\": \"string\",\\\n",
    "#                     \"date_of_birth\": \"string\",\\\n",
    "#                     \"sex\": \"string\",\\\n",
    "#                     \"eyes\": \"string\",\\\n",
    "#                     \"class\": \"string\",\\\n",
    "#                     \"height\": \"float\",\\\n",
    "#                     \"endorsements\": \"string\",\\\n",
    "#                     \"restrictions\": \"string\",\\\n",
    "#                     \"signature\": \"boolean\"\\\n",
    "#                         }\n",
    "#             \"\"\"\n",
    "#         }\n",
    "#     )\n",
    "#     extracted_text = \"\"\n",
    "#     for item in output:\n",
    "#         extracted_text += item\n",
    "#         print(item, end=\"\")\n",
    "#     return extracted_text\n"
   ]
  },
  {
   "cell_type": "code",
   "execution_count": null,
   "metadata": {},
   "outputs": [],
   "source": [
    "# result = extract_text(new_mexico_image)\n",
    "# test_result = test_model(colorado_image)"
   ]
  },
  {
   "cell_type": "markdown",
   "metadata": {},
   "source": [
    "#### Here is an example of an address city change\n",
    "\n",
    "```python\n",
    "updated_data[\"address\"][\"city\"][\"type\"] = \"NewCity\"\n",
    "```"
   ]
  }
 ],
 "metadata": {
  "kernelspec": {
   "display_name": "Python 3.11.2 ('venv': venv)",
   "language": "python",
   "name": "python3"
  },
  "language_info": {
   "codemirror_mode": {
    "name": "ipython",
    "version": 3
   },
   "file_extension": ".py",
   "mimetype": "text/x-python",
   "name": "python",
   "nbconvert_exporter": "python",
   "pygments_lexer": "ipython3",
   "version": "3.11.2"
  },
  "orig_nbformat": 4,
  "vscode": {
   "interpreter": {
    "hash": "6e3a011995d92555ea560ade9921725e7215eba0e2e531526825e5a4f2001040"
   }
  }
 },
 "nbformat": 4,
 "nbformat_minor": 2
}
