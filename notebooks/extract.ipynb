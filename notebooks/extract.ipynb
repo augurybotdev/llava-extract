{
 "cells": [
  {
   "cell_type": "code",
   "execution_count": null,
   "metadata": {},
   "outputs": [],
   "source": [
    "import sys\n",
    "import replicate\n",
    "import requests\n",
    "import json\n",
    "from dotenv import load_dotenv\n",
    "import os\n",
    "import base64\n",
    "import IPython.display as display\n",
    "from IPython.display import Image\n",
    "from PIL import Image\n",
    "import openai\n",
    "from custom_modules import LicenseDatabase\n",
    "load_dotenv()\n",
    "REPLICATE_API_TOKEN = os.getenv(\"REPLICATE_API_TOKEN\")\n",
    "os.environ['REPLICATE_API_TOKEN'] = REPLICATE_API_TOKEN"
   ]
  },
  {
   "cell_type": "code",
   "execution_count": null,
   "metadata": {},
   "outputs": [],
   "source": [
    "api_endpoint = \"https://replicate.com/yorickvp/llava-13b/api?tab=python\"\n",
    "headers = {\"Content-Type\": \"application/json\"}\n",
    "db = LicenseDatabase(\"../data/scraped/state_licenses_db\")"
   ]
  },
  {
   "cell_type": "code",
   "execution_count": null,
   "metadata": {},
   "outputs": [],
   "source": [
    "images_dir = \"..data/images\"\n",
    "states_dir = \"../data/images/states\"\n",
    "alabama_folder = \"../data/images/Alabama drivers license\"\n",
    "image_path= \"../images/dl_licenses_by_state/Alabama drivers license/original_635733316643777774-aladriverlicense.jpg\"\n",
    "sample_image = display.Image(filename = image_path) # only  converted so that it actually displays\n",
    "sample_image"
   ]
  },
  {
   "cell_type": "code",
   "execution_count": null,
   "metadata": {},
   "outputs": [],
   "source": [
    "def extract_text(image_path):\n",
    "    output = replicate.run(\n",
    "        \"yorickvp/llava-13b:2facb4a474a0462c15041b78b1ad70952ea46b5ec6ad29583c0b29dbd4249591\",\n",
    "        input={\n",
    "            \"image\": open(image_path, \"rb\"),\n",
    "            \"prompt\": \"\"\" Use the text from the image to fill in the values for each category within the JSON Schemas.\n",
    "                For each category, rate you}n.\n",
    "                If a category is not present, write the value as \"None\"\n",
    "                If a category is present but you cannot extract the value, write the value as \"Unknown Value\"\n",
    "                \n",
    "                Remember to look for non-character symbols that can indicate organ donor or veteran status.\n",
    "                A circle that contains a star indicates that it is a 'Real ID'.\n",
    "                Replace the \"string\", \"boolean\" and \"integer\" values with the extracted text.\n",
    "                                \n",
    "                {\\\n",
    "                    \"name\": {\\\n",
    "                        \"first\": {\"type\":\"string\"},\\\n",
    "                        \"middle\": {\"type\":\"string\"},\\\n",
    "                        \"last\": {\"type\":\"string\"}}\\\n",
    "                    },\\\n",
    "                    \"address\": {\\\n",
    "                        \"street\": {\"type\":\"string\"},\\\n",
    "                        \"city\": {\"type\":\"string\"},\\\n",
    "                        \"state\": {\"type\":\"string\"},\\\n",
    "                        \"zip\": {\"type\":\"integer\"}}\\\n",
    "                    },\\\n",
    "                    \"real_id\": {\"type\":\"boolean\"},\\\n",
    "                    \"organ_donor\": {\"type\":\"boolean\"},\\\n",
    "                    \"veteran_status\": {\"type\":\"boolean\"},\\\n",
    "                    \"DD\": {\"type\":\"integer\"}}\\\n",
    "                    \"customer_number\": {\"type\":\"string\"},\\\n",
    "                    \"id_type\": {\"type\":\"string\"},\\\n",
    "                    \"issue_date\": {\"type\":\"string\"},\\\n",
    "                    \"expiration_date\": {\"type\":\"string\"},\\\n",
    "                    \"date_of_birth\": {\"type\":\"string\"},\\\n",
    "                    \"sex\": {\"type\":\"string\"},\\\n",
    "                    \"eyes\": {\"type\":\"string\"},\\\n",
    "                    \"class\": {\"type\":\"string\"},\\\n",
    "                    \"height\": {\"type\":\"float\"},\\\n",
    "                    \"endorsements\": {\"type\":\"string\"},\\\n",
    "                    \"restrictions\": {\"typ\": \"string\"},\\\n",
    "                    \"signature\": {\"type\":\"boolean\"},\\\n",
    "                }\\\n",
    "                \"\"\"\n",
    "            }\n",
    "        )\n",
    "    extracted_text = \"\"\n",
    "    for item in output:\n",
    "        extracted_text += item\n",
    "        print(item, end=\"\")\n",
    "    return extracted_text"
   ]
  },
  {
   "cell_type": "code",
   "execution_count": null,
   "metadata": {},
   "outputs": [],
   "source": [
    "def list_image_files(directory):\n",
    "    image_extensions = [\".jpg\", \"jpeg\", \"png\", \"gif\", \"bmp\"]\n",
    "    image_files = []\n",
    "    for filename in os.listdir(directory):\n",
    "        if any(filename.lower().endswith(ext) for ext in image_extensions):\n",
    "            image_files.append(os.path.join(directory, filename))\n",
    "    return image_files"
   ]
  },
  {
   "cell_type": "code",
   "execution_count": null,
   "metadata": {},
   "outputs": [],
   "source": [
    "def get_images_from(state_name):\n",
    "    for dir_name in os.listdir(states_dir):\n",
    "        dir_path = os.path.join(states_dir, dir_name)\n",
    "        if dir_name.lower().startswith(state_name.lower()):\n",
    "            return dir_path\n",
    "    return None"
   ]
  },
  {
   "cell_type": "code",
   "execution_count": null,
   "metadata": {},
   "outputs": [],
   "source": [
    "chosen_dir = get_images_from('Alabama')\n",
    "if chosen_dir :\n",
    "    image_paths = list_image_files(chosen_dir )\n",
    "    print(\"image paths\", image_paths)\n",
    "else:\n",
    "    print('state directory not found')"
   ]
  },
  {
   "cell_type": "code",
   "execution_count": null,
   "metadata": {},
   "outputs": [],
   "source": [
    "image_paths = list_image_files(chosen_dir)\n",
    "for path in image_paths:\n",
    "    result = extract_text(path)"
   ]
  },
  {
   "cell_type": "code",
   "execution_count": null,
   "metadata": {},
   "outputs": [],
   "source": [
    "result"
   ]
  },
  {
   "cell_type": "code",
   "execution_count": null,
   "metadata": {},
   "outputs": [],
   "source": [
    "text_type = type(result)\n",
    "text_type"
   ]
  },
  {
   "cell_type": "code",
   "execution_count": null,
   "metadata": {},
   "outputs": [],
   "source": [
    "db = LicenseDatabase('../data/storage/license_database.db')"
   ]
  },
  {
   "cell_type": "code",
   "execution_count": null,
   "metadata": {},
   "outputs": [],
   "source": [
    "db.insert_license_data(result)\n",
    "customer_number = result.get('customer_number', {}).get('type')\n",
    "record = db.retrieve_license_data(customer_number)\n",
    "updated_data = result.copy()\n",
    "db.update_license_data(customer_number, updated_data)\n"
   ]
  }
 ],
 "metadata": {
  "kernelspec": {
   "display_name": "Python 3.11.2 64-bit",
   "language": "python",
   "name": "python3"
  },
  "language_info": {
   "codemirror_mode": {
    "name": "ipython",
    "version": 3
   },
   "file_extension": ".py",
   "mimetype": "text/x-python",
   "name": "python",
   "nbconvert_exporter": "python",
   "pygments_lexer": "ipython3",
   "version": "3.11.2"
  },
  "orig_nbformat": 4,
  "vscode": {
   "interpreter": {
    "hash": "aee8b7b246df8f9039afb4144a1f6fd8d2ca17a180786b69acc140d282b71a49"
   }
  }
 },
 "nbformat": 4,
 "nbformat_minor": 2
}
